{
 "cells": [
  {
   "cell_type": "code",
   "execution_count": 1,
   "metadata": {},
   "outputs": [],
   "source": [
    "# libraries for computation\n",
    "import pandas as pd\n",
    "import numpy as np\n",
    "\n",
    "#library for train test split\n",
    "from sklearn.model_selection import train_test_split,cross_val_score,KFold\n",
    "\n",
    "#library for preprocessing\n",
    "from sklearn.preprocessing import StandardScaler\n",
    "\n",
    "#library for Dimensionality reduction\n",
    "from sklearn.decomposition import PCA\n",
    "from sklearn.decomposition import TruncatedSVD\n",
    "\n",
    "#Library for feature selection techniques\n",
    "from sklearn.feature_selection import RFE\n",
    "from sklearn.feature_selection import RFECV\n",
    "from sklearn.feature_selection import SelectKBest\n",
    "from sklearn.feature_selection import chi2\n",
    "from sklearn.feature_selection import SelectFromModel\n",
    "\n",
    "#libraries for various ML models \n",
    "from sklearn import svm\n",
    "from sklearn.svm import SVC\n",
    "from sklearn.linear_model import LogisticRegression\n",
    "from sklearn.neural_network import MLPClassifier\n",
    "from sklearn.neighbors import KNeighborsClassifier\n",
    "from sklearn.tree import DecisionTreeClassifier\n",
    "#ensemble models\n",
    "from sklearn.ensemble import BaggingClassifier\n",
    "from sklearn.ensemble import AdaBoostClassifier\n",
    "from sklearn.ensemble import GradientBoostingClassifier\n",
    "from sklearn.ensemble import VotingClassifier\n",
    "from sklearn.ensemble import RandomForestClassifier\n",
    "from sklearn.ensemble import ExtraTreesClassifier\n",
    "from sklearn.ensemble import RandomForestRegressor\n",
    "\n",
    "\n",
    "\n",
    "#libraries for model performance evaluation\n",
    "from sklearn import metrics\n",
    "from sklearn.metrics import classification_report,confusion_matrix,accuracy_score,f1_score\n",
    "\n",
    "#libraries for visualization\n",
    "import matplotlib.pyplot as plt\n",
    "import seaborn as sns\n",
    "%matplotlib inline\n",
    "from matplotlib.colors import ListedColormap\n",
    "\n",
    "import warnings\n",
    "warnings.filterwarnings('ignore')"
   ]
  },
  {
   "cell_type": "code",
   "execution_count": 2,
   "metadata": {},
   "outputs": [],
   "source": [
    "# read all data from train and test files provided\n",
    "with open(\"train.dat\", \"r\") as fh:\n",
    "    train_lines = fh.readlines()\n",
    "    \n",
    "with open(\"train.labels\", \"r\") as fh:\n",
    "    train_lables_lines = fh.readlines() \n",
    "    \n",
    "with open(\"test.dat\", \"r\") as fh:\n",
    "    test_lines = fh.readlines()  \n",
    "\n",
    "with open(\"format.dat\", \"r\") as fh:\n",
    "    format_lines = fh.readlines() \n",
    "    \n",
    "train_data = [l.split() for l in train_lines] \n",
    "test_data = [l.split() for l in test_lines] \n",
    "train_lables = [l.split() for l in train_lables_lines]\n",
    "format_data = [l.split() for l in format_lines]    "
   ]
  },
  {
   "cell_type": "code",
   "execution_count": 3,
   "metadata": {},
   "outputs": [],
   "source": [
    "# convert string data to float \n",
    "train_data = np.float_(train_data)\n",
    "train_lables = np.float_(train_lables)\n",
    "test_data = np.float_(test_data)"
   ]
  },
  {
   "cell_type": "code",
   "execution_count": 4,
   "metadata": {},
   "outputs": [
    {
     "name": "stdout",
     "output_type": "stream",
     "text": [
      "Number of instances in training data: 21186\n",
      "Number of instances in test data: 5296\n",
      "Number of features: 48\n"
     ]
    }
   ],
   "source": [
    "#Some data insights\n",
    "print(\"Number of instances in training data:\",len(train_data))\n",
    "print(\"Number of instances in test data:\",len(test_data))\n",
    "print(\"Number of features:\", len(train_data[0]))"
   ]
  },
  {
   "cell_type": "code",
   "execution_count": 5,
   "metadata": {},
   "outputs": [],
   "source": [
    "#combine train_data and train_labels and create data frame\n",
    "x_test_df = pd.DataFrame(test_data)\n",
    "x_df = pd.DataFrame(train_data)\n",
    "y_df = pd.DataFrame(train_lables)\n",
    "y_df.rename( columns= {0:'lable'}, inplace=True )\n",
    "dat1 = pd.concat([x_df, y_df], axis=1)\n",
    "df = pd.DataFrame(dat1)\n",
    "features = list(df.columns[0:48])\n",
    "x = df[features]\n",
    "y = df['lable']"
   ]
  },
  {
   "cell_type": "code",
   "execution_count": 6,
   "metadata": {},
   "outputs": [
    {
     "name": "stdout",
     "output_type": "stream",
     "text": [
      "1.0     10375\n",
      "2.0      7646\n",
      "3.0      1743\n",
      "8.0       850\n",
      "4.0       294\n",
      "5.0       198\n",
      "7.0        52\n",
      "6.0        18\n",
      "11.0        7\n",
      "10.0        3\n",
      "Name: lable, dtype: int64\n"
     ]
    },
    {
     "data": {
      "text/plain": [
       "<matplotlib.axes._subplots.AxesSubplot at 0x110ec9470>"
      ]
     },
     "execution_count": 6,
     "metadata": {},
     "output_type": "execute_result"
    },
    {
     "data": {
      "image/png": "[encoded data removed]",
      "text/plain": [
       "<matplotlib.figure.Figure at 0x10f348f60>"
      ]
     },
     "metadata": {},
     "output_type": "display_data"
    }
   ],
   "source": [
    "#lets have a look at how many instances do we have for each class\n",
    "print(df.lable.value_counts())\n",
    "sns.set_style('darkgrid')\n",
    "sns.countplot(x ='lable',data=y_df)"
   ]
  },
  {
   "cell_type": "markdown",
   "metadata": {},
   "source": [
    "** Lets try different models without dimensionality reduction and measure model performance **"
   ]
  },
  {
   "cell_type": "code",
   "execution_count": 7,
   "metadata": {},
   "outputs": [],
   "source": [
    "#split data into train and validation(test) set:\n",
    "X_train, X_test, y_train, y_test = train_test_split(x, y, test_size=0.30, random_state=42)"
   ]
  },
  {
   "cell_type": "code",
   "execution_count": 9,
   "metadata": {},
   "outputs": [
    {
     "name": "stdout",
     "output_type": "stream",
     "text": [
      "F1 Score:  0.6730862001714888\n",
      "Accuracy Score:  0.6889553178099433\n"
     ]
    }
   ],
   "source": [
    "#KNN\n",
    "knn = KNeighborsClassifier(n_neighbors=2)\n",
    "knn.fit(X_train,y_train)\n",
    "pred = knn.predict(X_test)\n",
    "print(\"F1 Score: \", metrics.f1_score(y_test,pred, average='weighted'))\n",
    "print(\"Accuracy Score: \", accuracy_score(y_test,pred))"
   ]
  },
  {
   "cell_type": "code",
   "execution_count": 10,
   "metadata": {},
   "outputs": [
    {
     "name": "stdout",
     "output_type": "stream",
     "text": [
      "[0.6729940899031243, 0.6730862001714888, 0.6783881487946367, 0.6827392505105949, 0.681499940525752, 0.6817741294337243, 0.6820002565981548, 0.6805080230388966, 0.6798259192561114, 0.6785691413907171, 0.6747357183176004, 0.6774889705772572, 0.6723660328205454, 0.6747689171569726, 0.6719308473606082]\n"
     ]
    },
    {
     "data": {
      "image/png": "[encoded data removed]",
      "text/plain": [
       "<matplotlib.figure.Figure at 0x1a19dc93c8>"
      ]
     },
     "metadata": {},
     "output_type": "display_data"
    }
   ],
   "source": [
    "#KNN for different k values\n",
    "kVals = [1,2,3,4,5,6,7,8,9,10,11,12,13,14,15]\n",
    "f1_scores = []\n",
    "\n",
    "for k in kVals:\n",
    "    knn = KNeighborsClassifier(n_neighbors=k)\n",
    "    knn.fit(X_train,y_train)\n",
    "    pred = knn.predict(X_test)\n",
    "    f1_scores.append(f1_score(y_test,pred,average='weighted'))\n",
    "    \n",
    "plt.plot(kVals,f1_scores)    \n",
    "print(f1_scores)    "
   ]
  },
  {
   "cell_type": "code",
   "execution_count": 11,
   "metadata": {},
   "outputs": [
    {
     "name": "stdout",
     "output_type": "stream",
     "text": [
      "F1 Score:  0.5009195723407037\n",
      "Accuracy Score:  0.5550660792951542\n"
     ]
    }
   ],
   "source": [
    "#SVM\n",
    "clf = svm.SVC(gamma='auto',C=10,kernel='rbf')\n",
    "clf.fit(X_train,y_train)\n",
    "pred = clf.predict(X_test)\n",
    "\n",
    "print(\"F1 Score: \", metrics.f1_score(y_test,pred, average='weighted'))\n",
    "print(\"Accuracy Score: \", accuracy_score(y_test,pred))"
   ]
  },
  {
   "cell_type": "code",
   "execution_count": 12,
   "metadata": {},
   "outputs": [
    {
     "data": {
      "text/plain": [
       "[<matplotlib.lines.Line2D at 0x114dce9b0>]"
      ]
     },
     "execution_count": 12,
     "metadata": {},
     "output_type": "execute_result"
    },
    {
     "data": {
      "image/png": "[encoded data removed]",
      "text/plain": [
       "<matplotlib.figure.Figure at 0x1a19de65c0>"
      ]
     },
     "metadata": {},
     "output_type": "display_data"
    }
   ],
   "source": [
    "#SVM Fine tunning\n",
    "cVals = [0.001, 0.10, 0.1, 10, 25, 50, 100, 1000]\n",
    "f1_scores = []\n",
    "for c in cVals:\n",
    "    clf = svm.SVC(gamma='auto',C=c,kernel='rbf')\n",
    "    clf.fit(X_train,y_train)\n",
    "    pred = clf.predict(X_test)\n",
    "    f1_scores.append(f1_score(y_test,pred,average='weighted'))\n",
    "    \n",
    "plt.plot(cVals,f1_scores)"
   ]
  },
  {
   "cell_type": "code",
   "execution_count": 13,
   "metadata": {},
   "outputs": [
    {
     "name": "stdout",
     "output_type": "stream",
     "text": [
      "F1 Score:  0.5066702568504471\n",
      "Accuracy Score:  0.5597860289490245\n"
     ]
    }
   ],
   "source": [
    "#Logistic Regression\n",
    "logmodel = LogisticRegression()\n",
    "logmodel.fit(X_train,y_train)\n",
    "pred = logmodel.predict(X_test)\n",
    "print(\"F1 Score: \", metrics.f1_score(y_test,pred, average='weighted'))\n",
    "print(\"Accuracy Score: \", accuracy_score(y_test,pred))"
   ]
  },
  {
   "cell_type": "code",
   "execution_count": 14,
   "metadata": {},
   "outputs": [
    {
     "name": "stdout",
     "output_type": "stream",
     "text": [
      "F1 Score:  0.571770743237182\n",
      "Accuracy Score:  0.5695405915670233\n"
     ]
    }
   ],
   "source": [
    "#DT\n",
    "d_classifier = DecisionTreeClassifier(criterion = 'entropy', random_state = 42)\n",
    "d_classifier.fit(X_train,y_train)\n",
    "pred = d_classifier.predict(X_test)\n",
    "print(\"F1 Score: \", metrics.f1_score(y_test,pred, average='weighted'))\n",
    "print(\"Accuracy Score: \", accuracy_score(y_test,pred))"
   ]
  },
  {
   "cell_type": "code",
   "execution_count": 10,
   "metadata": {},
   "outputs": [
    {
     "name": "stdout",
     "output_type": "stream",
     "text": [
      "F1 Score:  0.6881001166126468\n",
      "Accuracy Score:  0.7048458149779736\n"
     ]
    }
   ],
   "source": [
    "#Ensemble Random Forest Classifier\n",
    "rf_classifier = RandomForestClassifier(n_estimators=100, random_state = 42)\n",
    "rf_classifier.fit(X_train,y_train)\n",
    "pred = rf_classifier.predict(X_test)\n",
    "print(\"F1 Score: \", metrics.f1_score(y_test,pred, average='weighted'))\n",
    "print(\"Accuracy Score: \", accuracy_score(y_test,pred))"
   ]
  },
  {
   "cell_type": "code",
   "execution_count": 16,
   "metadata": {},
   "outputs": [
    {
     "name": "stdout",
     "output_type": "stream",
     "text": [
      "[0.611477711273602, 0.6433835695173098, 0.6512030038061363, 0.6608192528195961, 0.6703124995435177, 0.6747540081933285, 0.6757557853942772, 0.6780063981966247]\n"
     ]
    },
    {
     "data": {
      "image/png": "[encoded data removed]",
      "text/plain": [
       "<matplotlib.figure.Figure at 0x114deaac8>"
      ]
     },
     "metadata": {},
     "output_type": "display_data"
    }
   ],
   "source": [
    "#Ensemble Random Forest Classifier Fine Tunning\n",
    "estimators = [5,10,15,20,30,35,40,48]\n",
    "f1_scores = []\n",
    "for e in estimators:\n",
    "    rf_classifier = RandomForestClassifier(n_estimators=e, random_state = 42)\n",
    "    rf_classifier.fit(X_train,y_train)\n",
    "    pred = rf_classifier.predict(X_test)\n",
    "    f1_scores.append(f1_score(y_test,pred,average='weighted'))\n",
    "    \n",
    "plt.plot(estimators,f1_scores) \n",
    "print(f1_scores)"
   ]
  },
  {
   "cell_type": "code",
   "execution_count": 17,
   "metadata": {},
   "outputs": [
    {
     "name": "stdout",
     "output_type": "stream",
     "text": [
      "F1 Score:  0.684708269988232\n",
      "Accuracy Score:  0.7024858401510384\n"
     ]
    }
   ],
   "source": [
    "#Bagging Classifier with Decision tree as base learner\n",
    "cart = DecisionTreeClassifier()\n",
    "model = BaggingClassifier(base_estimator=cart, n_estimators=150, random_state=7)\n",
    "model.fit(X_train, y_train)\n",
    "pred = model.predict(X_test)\n",
    "print(\"F1 Score: \", metrics.f1_score(y_test,pred, average='weighted'))\n",
    "print(\"Accuracy Score: \", accuracy_score(y_test,pred))"
   ]
  },
  {
   "cell_type": "code",
   "execution_count": 50,
   "metadata": {},
   "outputs": [
    {
     "name": "stdout",
     "output_type": "stream",
     "text": [
      "F1 Score:  0.7073178999392998\n",
      "Accuracy Score:  0.7202643171806168\n"
     ]
    }
   ],
   "source": [
    "#ExtraTreeClassifier\n",
    "num_trees = 80\n",
    "max_features = 48\n",
    "model = ExtraTreesClassifier(n_estimators=num_trees, max_features=max_features)\n",
    "model.fit(X_train, y_train)\n",
    "pred = model.predict(X_test)\n",
    "print(\"F1 Score: \", metrics.f1_score(y_test,pred, average='weighted'))\n",
    "print(\"Accuracy Score: \", accuracy_score(y_test,pred))"
   ]
  },
  {
   "cell_type": "code",
   "execution_count": 49,
   "metadata": {},
   "outputs": [
    {
     "name": "stdout",
     "output_type": "stream",
     "text": [
      "F1 Score:  0.32872114610051006\n",
      "Accuracy Score:  0.49433606041535555\n"
     ]
    }
   ],
   "source": [
    "# AdaBoostClassifier\n",
    "seed = 7\n",
    "num_trees = 100\n",
    "model = AdaBoostClassifier(n_estimators=num_trees, random_state=seed)\n",
    "model.fit(X_train, y_train)\n",
    "pred = model.predict(X_test)\n",
    "print(\"F1 Score: \", metrics.f1_score(y_test,pred, average='weighted'))\n",
    "print(\"Accuracy Score: \", accuracy_score(y_test,pred))"
   ]
  },
  {
   "cell_type": "code",
   "execution_count": 53,
   "metadata": {},
   "outputs": [
    {
     "name": "stdout",
     "output_type": "stream",
     "text": [
      "F1 Score:  0.6223104738896016\n",
      "Accuracy Score:  0.6422278162366268\n"
     ]
    }
   ],
   "source": [
    "seed = 7\n",
    "num_trees = 100\n",
    "model = GradientBoostingClassifier(n_estimators=num_trees, random_state=seed)\n",
    "model.fit(X_train, y_train)\n",
    "pred = model.predict(X_test)\n",
    "print(\"F1 Score: \", metrics.f1_score(y_test,pred, average='weighted'))\n",
    "print(\"Accuracy Score: \", accuracy_score(y_test,pred))"
   ]
  },
  {
   "cell_type": "code",
   "execution_count": 9,
   "metadata": {},
   "outputs": [
    {
     "name": "stdout",
     "output_type": "stream",
     "text": [
      "F1 Score:  0.708928480773077\n",
      "Accuracy Score:  0.723410950283197\n"
     ]
    }
   ],
   "source": [
    "# Try with Different Models\n",
    "from sklearn.linear_model import LogisticRegression\n",
    "from sklearn.tree import DecisionTreeClassifier\n",
    "from sklearn.svm import SVC\n",
    "from sklearn.ensemble import VotingClassifier\n",
    "# create the sub models\n",
    "estimators = []\n",
    "model1 = KNeighborsClassifier(n_neighbors=4)\n",
    "estimators.append(('Knn', model1))\n",
    "model2 = RandomForestClassifier(n_estimators=100, max_features=35)\n",
    "estimators.append(('RandomForest', model2))\n",
    "model3 = ExtraTreesClassifier(n_estimators=50, max_features=35)\n",
    "estimators.append(('ExtraTree', model3))\n",
    "# create the ensemble model\n",
    "ensemble = VotingClassifier(estimators)\n",
    "ensemble.fit(X_train, y_train)\n",
    "pred = ensemble.predict(X_test)\n",
    "print(\"F1 Score: \", metrics.f1_score(y_test,pred, average='weighted'))\n",
    "print(\"Accuracy Score: \", accuracy_score(y_test,pred))"
   ]
  },
  {
   "cell_type": "code",
   "execution_count": 8,
   "metadata": {},
   "outputs": [
    {
     "name": "stdout",
     "output_type": "stream",
     "text": [
      "F1 Score:  0.6227203792860474\n",
      "Accuracy Score:  0.6478917558212712\n"
     ]
    }
   ],
   "source": [
    "#MLPClassifier\n",
    "net = net = MLPClassifier(random_state=2,hidden_layer_sizes=(100,200,330,10),max_iter=500,activation= 'relu', learning_rate= 'invscaling', solver='adam')\n",
    "net.fit(X_train,y_train)\n",
    "pred= net.predict(X_test)\n",
    "\n",
    "print(\"F1 Score: \", metrics.f1_score(y_test,pred, average='weighted'))\n",
    "print(\"Accuracy Score: \", accuracy_score(y_test,pred))"
   ]
  },
  {
   "cell_type": "markdown",
   "metadata": {},
   "source": [
    "**Results of classifiers**\n",
    "    - KNearest Neighbour  : 0.6827\n",
    "    - Logistic Regression : 0.5055\n",
    "    - SVM                 : 0.5555\n",
    "    - Decision Tree       : 0.5717\n",
    "    - Random Forest Classifier : 0.6820\n",
    "    - MLP Classifier      : 0.6227\n",
    "    - Ensemble \n",
    "        - ExtraTreesClassifier: 0.7019\n",
    "        - AdaBoostClassifier:   0.3287    \n",
    "        - GradientBoostingClassifier: 0.6223\n",
    "        - VotingClassifier:  0.7077"
   ]
  },
  {
   "cell_type": "markdown",
   "metadata": {},
   "source": [
    "  # Now lets apply Dimensionality Reduction \n",
    "  ## We will use PCA and SVD \n",
    "  ### Considered Top 4 performing classifiers KNN, Random Forest , ExtraTreeClassifier, and Voting Classifier"
   ]
  },
  {
   "cell_type": "markdown",
   "metadata": {},
   "source": [
    "### PCA\n",
    "#### lets plot components vs variance"
   ]
  },
  {
   "cell_type": "code",
   "execution_count": 55,
   "metadata": {},
   "outputs": [
    {
     "data": {
      "text/plain": [
       "Text(0,0.5,'explained_variance_ratio_')"
      ]
     },
     "execution_count": 55,
     "metadata": {},
     "output_type": "execute_result"
    },
    {
     "data": {
      "image/png": "[encoded data removed]",
      "text/plain": [
       "<matplotlib.figure.Figure at 0x1a1a09e278>"
      ]
     },
     "metadata": {},
     "output_type": "display_data"
    }
   ],
   "source": [
    "# split data train 70 % and test 30 %\n",
    "x_train, x_test, y_train, y_test = train_test_split(X, y, test_size=0.3, random_state=42)\n",
    "#normalization\n",
    "x_train_N = (x_train-x_train.mean())/(x_train.max()-x_train.min())\n",
    "x_test_N = (x_test-x_test.mean())/(x_test.max()-x_test.min())\n",
    "\n",
    "from sklearn.decomposition import PCA\n",
    "pca = PCA()\n",
    "pca.fit(x_train_N)\n",
    "plt.figure(1, figsize=(5,5))\n",
    "plt.clf()\n",
    "plt.axes([.2, .2, .7, .7])\n",
    "plt.plot(pca.explained_variance_ratio_, linewidth=2)\n",
    "plt.axis('tight')\n",
    "plt.xlabel('n_components')\n",
    "plt.ylabel('explained_variance_ratio_')"
   ]
  },
  {
   "cell_type": "markdown",
   "metadata": {},
   "source": [
    "** Above graph clearly illustrates that with only decrease of 0.05% of variance we can reduce components to 5 from 48 , Lets try to apply PCA with 5 Components ** "
   ]
  },
  {
   "cell_type": "code",
   "execution_count": 56,
   "metadata": {},
   "outputs": [],
   "source": [
    "# Taking 30 PCA Components\n",
    "pca = PCA(n_components=5)  \n",
    "X_train_pca = pca.fit_transform(X_train)  \n",
    "X_test_pca = pca.transform(X_test) "
   ]
  },
  {
   "cell_type": "code",
   "execution_count": 57,
   "metadata": {},
   "outputs": [
    {
     "name": "stdout",
     "output_type": "stream",
     "text": [
      "F1 Score:  0.6022352011147469\n",
      "Accuracy Score:  0.6266519823788547\n"
     ]
    }
   ],
   "source": [
    "#KNN\n",
    "knn = KNeighborsClassifier(n_neighbors=2)\n",
    "knn.fit(X_train_pca,y_train)\n",
    "pred = knn.predict(X_test_pca)\n",
    "print(\"F1 Score: \", metrics.f1_score(y_test,pred, average='weighted'))\n",
    "print(\"Accuracy Score: \", accuracy_score(y_test,pred))"
   ]
  },
  {
   "cell_type": "code",
   "execution_count": 58,
   "metadata": {},
   "outputs": [
    {
     "name": "stdout",
     "output_type": "stream",
     "text": [
      "[0.5921729912118898, 0.6022352011147469, 0.6146970139293378, 0.6123597655902561, 0.613960379247996, 0.6108997076022266, 0.6181550627884653, 0.6146867638594699, 0.6119953863494269, 0.6133395346255334, 0.6117154604910202, 0.6084689394596678, 0.6118761073544893, 0.6093625053925541, 0.6090531966065424]\n"
     ]
    },
    {
     "data": {
      "image/png": "[encoded data removed]",
      "text/plain": [
       "<matplotlib.figure.Figure at 0x1a1b14f5f8>"
      ]
     },
     "metadata": {},
     "output_type": "display_data"
    }
   ],
   "source": [
    "#KNN for different k values\n",
    "kVals = [1,2,3,4,5,6,7,8,9,10,11,12,13,14,15]\n",
    "f1_scores = []\n",
    "\n",
    "for k in kVals:\n",
    "    knn = KNeighborsClassifier(n_neighbors=k)\n",
    "    knn.fit(X_train_pca,y_train)\n",
    "    pred = knn.predict(X_test_pca)\n",
    "    f1_scores.append(f1_score(y_test,pred,average='weighted'))\n",
    "    \n",
    "plt.plot(kVals,f1_scores)    \n",
    "print(f1_scores) "
   ]
  },
  {
   "cell_type": "code",
   "execution_count": 59,
   "metadata": {},
   "outputs": [
    {
     "name": "stdout",
     "output_type": "stream",
     "text": [
      "F1 Score:  0.6239527961540182\n",
      "Accuracy Score:  0.6420704845814978\n"
     ]
    }
   ],
   "source": [
    "#Ensemble Random Forest Classifier\n",
    "rf_classifier = RandomForestClassifier(n_estimators=150, random_state = 42)\n",
    "rf_classifier.fit(X_train_pca,y_train)\n",
    "pred = rf_classifier.predict(X_test_pca)\n",
    "print(\"F1 Score: \", metrics.f1_score(y_test,pred, average='weighted'))\n",
    "print(\"Accuracy Score: \", accuracy_score(y_test,pred))"
   ]
  },
  {
   "cell_type": "code",
   "execution_count": 61,
   "metadata": {},
   "outputs": [
    {
     "name": "stdout",
     "output_type": "stream",
     "text": [
      "F1 Score:  0.6267453023709627\n",
      "Accuracy Score:  0.6415984896161108\n"
     ]
    }
   ],
   "source": [
    "#ExtraTreeClassifier\n",
    "from sklearn.ensemble import ExtraTreesClassifier\n",
    "model = ExtraTreesClassifier(n_estimators=100, max_features=5)\n",
    "model.fit(X_train_pca, y_train)\n",
    "pred = model.predict(X_test_pca)\n",
    "print(\"F1 Score: \", metrics.f1_score(y_test,pred, average='weighted'))\n",
    "print(\"Accuracy Score: \", accuracy_score(y_test,pred))"
   ]
  },
  {
   "cell_type": "code",
   "execution_count": 63,
   "metadata": {},
   "outputs": [
    {
     "name": "stdout",
     "output_type": "stream",
     "text": [
      "F1 Score:  0.6298416941056721\n",
      "Accuracy Score:  0.6467904342353682\n"
     ]
    }
   ],
   "source": [
    "pca = PCA(n_components=5)  \n",
    "X_train_pca = pca.fit_transform(X_train)  \n",
    "X_test_pca = pca.transform(X_test) \n",
    "#Version 13 imporvement\n",
    "# Try with Different Models\n",
    "from sklearn.linear_model import LogisticRegression\n",
    "from sklearn.tree import DecisionTreeClassifier\n",
    "from sklearn.svm import SVC\n",
    "from sklearn.ensemble import VotingClassifier\n",
    "# create the sub models\n",
    "estimators = []\n",
    "model1 = KNeighborsClassifier(n_neighbors=4)\n",
    "estimators.append(('Knn', model1))\n",
    "model2 = RandomForestClassifier(n_estimators=100, max_features=5)\n",
    "estimators.append(('RandomForest', model2))\n",
    "model3 = ExtraTreesClassifier(n_estimators=100, max_features=5)\n",
    "estimators.append(('ExtraTree', model3))\n",
    "# create the ensemble model\n",
    "ensemble = VotingClassifier(estimators)\n",
    "ensemble.fit(X_train_pca, y_train)\n",
    "pred = ensemble.predict(X_test_pca)\n",
    "print(\"F1 Score: \", metrics.f1_score(y_test,pred, average='weighted'))\n",
    "print(\"Accuracy Score: \", accuracy_score(y_test,pred))"
   ]
  },
  {
   "cell_type": "code",
   "execution_count": 64,
   "metadata": {},
   "outputs": [
    {
     "name": "stdout",
     "output_type": "stream",
     "text": [
      "F1 Score:  0.5735196533750669\n",
      "Accuracy Score:  0.5995909376966646\n"
     ]
    }
   ],
   "source": [
    "#MLPClassifier\n",
    "net = net = MLPClassifier(random_state=2,hidden_layer_sizes=(100,200,330,10),max_iter=500,activation= 'relu', learning_rate= 'invscaling', solver='adam')\n",
    "net.fit(X_train_pca,y_train)\n",
    "pred= net.predict(X_test_pca)\n",
    "print(\"F1 Score: \", metrics.f1_score(y_test,pred, average='weighted'))\n",
    "print(\"Accuracy Score: \", accuracy_score(y_test,pred))"
   ]
  },
  {
   "cell_type": "markdown",
   "metadata": {},
   "source": [
    " ** As we can see the results varies a lot(decreases) by considering only 5 components, lets check results with different number of components **"
   ]
  },
  {
   "cell_type": "code",
   "execution_count": 65,
   "metadata": {},
   "outputs": [
    {
     "name": "stdout",
     "output_type": "stream",
     "text": [
      "[0.6181550627884653, 0.6697780799734182, 0.6764826559433379, 0.6792128186080886, 0.681392858615217, 0.6816486925410071, 0.6820002565981548, 0.6820002565981548, 0.6820002565981548]\n"
     ]
    },
    {
     "data": {
      "image/png": "[encoded data removed]",
      "text/plain": [
       "<matplotlib.figure.Figure at 0x1a1a055710>"
      ]
     },
     "metadata": {},
     "output_type": "display_data"
    }
   ],
   "source": [
    "components = [5,10,15,20,25,30,35,40,45]\n",
    "f1_scores = [] \n",
    "for c in components:\n",
    "    pca = PCA(n_components=c)  \n",
    "    X_train_pca = pca.fit_transform(X_train)  \n",
    "    X_test_pca = pca.transform(X_test) \n",
    "    knn = KNeighborsClassifier(n_neighbors=7)\n",
    "    knn.fit(X_train_pca,y_train)\n",
    "    pred = knn.predict(X_test_pca)\n",
    "    f1_scores.append(f1_score(y_test,pred,average='weighted'))\n",
    "    \n",
    "plt.plot(components,f1_scores)    \n",
    "print(f1_scores) "
   ]
  },
  {
   "cell_type": "markdown",
   "metadata": {},
   "source": [
    " ** As we can see with 25 components our model performs equivalent to using all features. so, lets try SVD with taking 25 compoents into consideration**"
   ]
  },
  {
   "cell_type": "markdown",
   "metadata": {},
   "source": [
    "## SVD"
   ]
  },
  {
   "cell_type": "code",
   "execution_count": 11,
   "metadata": {},
   "outputs": [],
   "source": [
    "svd = TruncatedSVD(n_components=25)\n",
    "X_train_svd = svd.fit_transform(X_train,y_train)\n",
    "X_test_svd = svd.transform(X_test)"
   ]
  },
  {
   "cell_type": "code",
   "execution_count": 12,
   "metadata": {},
   "outputs": [
    {
     "name": "stdout",
     "output_type": "stream",
     "text": [
      "F1 Score:  0.6805549089854743\n",
      "Accuracy Score:  0.6876966645689113\n"
     ]
    }
   ],
   "source": [
    "#KNN\n",
    "knn = KNeighborsClassifier(n_neighbors=7)\n",
    "knn.fit(X_train_svd,y_train)\n",
    "pred = knn.predict(X_test_svd)\n",
    "print(\"F1 Score: \", metrics.f1_score(y_test,pred, average='weighted'))\n",
    "print(\"Accuracy Score: \", accuracy_score(y_test,pred))"
   ]
  },
  {
   "cell_type": "code",
   "execution_count": 70,
   "metadata": {},
   "outputs": [
    {
     "name": "stdout",
     "output_type": "stream",
     "text": [
      "[0.6717955041836813, 0.6731325096604828, 0.6771769141780627, 0.6823112900855371, 0.6822173633623043, 0.6794429267662813, 0.6805549089854743, 0.6809370578513793, 0.6806604125552069, 0.6795963374285988, 0.6747728501049853, 0.6783404138938011, 0.6702498369214388, 0.6741576897271259, 0.6703673399811629]\n"
     ]
    },
    {
     "data": {
      "image/png": "[encoded data removed]",
      "text/plain": [
       "<matplotlib.figure.Figure at 0x1a19daebe0>"
      ]
     },
     "metadata": {},
     "output_type": "display_data"
    }
   ],
   "source": [
    "#KNN for different k values\n",
    "kVals = [1,2,3,4,5,6,7,8,9,10,11,12,13,14,15]\n",
    "f1_scores = []\n",
    "\n",
    "for k in kVals:\n",
    "    knn = KNeighborsClassifier(n_neighbors=k)\n",
    "    knn.fit(X_train_svd,y_train)\n",
    "    pred = knn.predict(X_test_svd)\n",
    "    f1_scores.append(f1_score(y_test,pred,average='weighted'))\n",
    "    \n",
    "plt.plot(kVals,f1_scores)    \n",
    "print(f1_scores)"
   ]
  },
  {
   "cell_type": "code",
   "execution_count": 71,
   "metadata": {},
   "outputs": [
    {
     "name": "stdout",
     "output_type": "stream",
     "text": [
      "F1 Score:  0.6773953361801541\n",
      "Accuracy Score:  0.7009125235997483\n"
     ]
    }
   ],
   "source": [
    "#Ensemble Random Forest Classifier\n",
    "rf_classifier = RandomForestClassifier(n_estimators=150, random_state = 42)\n",
    "rf_classifier.fit(X_train_svd,y_train)\n",
    "pred = rf_classifier.predict(X_test_svd)\n",
    "print(\"F1 Score: \", metrics.f1_score(y_test,pred, average='weighted'))\n",
    "print(\"Accuracy Score: \", accuracy_score(y_test,pred))"
   ]
  },
  {
   "cell_type": "code",
   "execution_count": 74,
   "metadata": {},
   "outputs": [
    {
     "name": "stdout",
     "output_type": "stream",
     "text": [
      "F1 Score:  0.6963976230367195\n",
      "Accuracy Score:  0.7134990560100692\n"
     ]
    }
   ],
   "source": [
    "#ExtraTreeClassifier\n",
    "model = ExtraTreesClassifier(n_estimators=50, max_features=20,random_state=7)\n",
    "model.fit(X_train_svd, y_train)\n",
    "pred = model.predict(X_test_svd)\n",
    "print(\"F1 Score: \", metrics.f1_score(y_test,pred, average='weighted'))\n",
    "print(\"Accuracy Score: \", accuracy_score(y_test,pred))"
   ]
  },
  {
   "cell_type": "code",
   "execution_count": 86,
   "metadata": {},
   "outputs": [
    {
     "name": "stdout",
     "output_type": "stream",
     "text": [
      "F1 Score:  0.6916582055592061\n",
      "Accuracy Score:  0.6922592825676526\n"
     ]
    }
   ],
   "source": [
    "#MLPClassifier\n",
    "net = MLPClassifier(random_state=2,hidden_layer_sizes=(500,350,400,10),max_iter=500,activation= 'relu', learning_rate= 'invscaling', solver='adam')\n",
    "net.fit(X_train_svd,y_train)\n",
    "pred= net.predict(X_test_svd)\n",
    "print(\"F1 Score: \", metrics.f1_score(y_test,pred, average='weighted'))\n",
    "print(\"Accuracy Score: \", accuracy_score(y_test,pred))"
   ]
  },
  {
   "cell_type": "code",
   "execution_count": null,
   "metadata": {},
   "outputs": [],
   "source": []
  },
  {
   "cell_type": "code",
   "execution_count": 75,
   "metadata": {},
   "outputs": [
    {
     "name": "stdout",
     "output_type": "stream",
     "text": [
      "F1 Score:  0.6979745950765622\n",
      "Accuracy Score:  0.7161736941472624\n"
     ]
    }
   ],
   "source": [
    "# Try with Different Models VOTING CLASSIFIER\n",
    "#KNN + RandomForest + ExtraTree\n",
    "from sklearn.ensemble import VotingClassifier\n",
    "# create the sub models\n",
    "estimators = []\n",
    "model1 = KNeighborsClassifier(n_neighbors=4)\n",
    "estimators.append(('Knn', model1))\n",
    "model2 = RandomForestClassifier(n_estimators=100, max_features=20,random_state=7)\n",
    "estimators.append(('RandomForest', model2))\n",
    "model3 = ExtraTreesClassifier(n_estimators=50, max_features=20,random_state=7)\n",
    "estimators.append(('ExtraTree', model3))\n",
    "# create the ensemble model\n",
    "ensemble = VotingClassifier(estimators)\n",
    "ensemble.fit(X_train_svd, y_train)\n",
    "pred = ensemble.predict(X_test_svd)\n",
    "print(\"F1 Score: \", metrics.f1_score(y_test,pred, average='weighted'))\n",
    "print(\"Accuracy Score: \", accuracy_score(y_test,pred))"
   ]
  },
  {
   "cell_type": "code",
   "execution_count": null,
   "metadata": {},
   "outputs": [],
   "source": []
  },
  {
   "cell_type": "code",
   "execution_count": 77,
   "metadata": {},
   "outputs": [
    {
     "name": "stdout",
     "output_type": "stream",
     "text": [
      "F1 Score:  0.708878792016308\n",
      "Accuracy Score:  0.7232536186280679\n"
     ]
    }
   ],
   "source": [
    "# Try with Different Models VOTING CLASSIFIER\n",
    "from sklearn.ensemble import VotingClassifier\n",
    "# create the sub models\n",
    "# KNN + MLP + ExtraTree\n",
    "estimators = []\n",
    "model1 = KNeighborsClassifier(n_neighbors=4)\n",
    "estimators.append(('Knn', model1))\n",
    "model2 = MLPClassifier(random_state=2,hidden_layer_sizes=(100,200,330,10),max_iter=500,activation= 'relu', learning_rate= 'invscaling', solver='adam')\n",
    "estimators.append(('RandomForest', model2))\n",
    "model3 = ExtraTreesClassifier(n_estimators=50, max_features=20,random_state=7)\n",
    "estimators.append(('ExtraTree', model3))\n",
    "# create the ensemble model\n",
    "ensemble = VotingClassifier(estimators)\n",
    "ensemble.fit(X_train_svd, y_train)\n",
    "pred = ensemble.predict(X_test_svd)\n",
    "print(\"F1 Score: \", metrics.f1_score(y_test,pred, average='weighted'))\n",
    "print(\"Accuracy Score: \", accuracy_score(y_test,pred))"
   ]
  },
  {
   "cell_type": "markdown",
   "metadata": {},
   "source": [
    "** F1 SCORE of 0.7089 is the highest f1 score we got till now ** "
   ]
  },
  {
   "cell_type": "code",
   "execution_count": null,
   "metadata": {},
   "outputs": [],
   "source": []
  },
  {
   "cell_type": "code",
   "execution_count": 79,
   "metadata": {},
   "outputs": [
    {
     "name": "stdout",
     "output_type": "stream",
     "text": [
      "[0.6642463969488033, 0.6836513000700775, 0.6890759936319961, 0.6949480982580597, 0.6963976230367195, 0.697717588731159, 0.7019133523663137, 0.6985710548328616, 0.6996288619909623, 0.6993244297523629]\n"
     ]
    },
    {
     "data": {
      "image/png": "[encoded data removed]",
      "text/plain": [
       "<matplotlib.figure.Figure at 0x1a331b8470>"
      ]
     },
     "metadata": {},
     "output_type": "display_data"
    }
   ],
   "source": [
    "# LETS TRY TO IMPROVE EXTRATREECLASSIFIER\n",
    "#F1 without DR 0.7015\n",
    "#F1 with PCA (20) 0.6964\n",
    "#F1 without SVD (20) 0.6979\n",
    "# lets work with pca\n",
    "estimators = [10,20,30,40,50,60,70,80,90,100]\n",
    "f1_scores = []\n",
    "for e in estimators:\n",
    "    model = ExtraTreesClassifier(n_estimators=e, max_features=20,random_state = 7)\n",
    "    model.fit(X_train_svd, y_train)\n",
    "    pred = model.predict(X_test_svd)\n",
    "    f1_scores.append(f1_score(y_test,pred,average='weighted'))\n",
    "    \n",
    "plt.plot(estimators,f1_scores) \n",
    "print(f1_scores)"
   ]
  },
  {
   "cell_type": "code",
   "execution_count": 80,
   "metadata": {},
   "outputs": [
    {
     "name": "stdout",
     "output_type": "stream",
     "text": [
      "F1 Score:  0.7120980174533819\n",
      "Accuracy Score:  0.7262429200755192\n"
     ]
    }
   ],
   "source": [
    "# Try with Different Models VOTING CLASSIFIER\n",
    "from sklearn.ensemble import VotingClassifier\n",
    "# create the sub models\n",
    "estimators = []\n",
    "model1 = KNeighborsClassifier(n_neighbors=4)\n",
    "estimators.append(('Knn', model1))\n",
    "model2 = MLPClassifier(random_state=2,hidden_layer_sizes=(100,200,330,10),max_iter=500,activation= 'relu', learning_rate= 'invscaling', solver='adam')\n",
    "estimators.append(('RandomForest', model2))\n",
    "model3 = ExtraTreesClassifier(n_estimators=70, max_features=20,random_state=7)\n",
    "estimators.append(('ExtraTree', model3))\n",
    "# create the ensemble model\n",
    "ensemble = VotingClassifier(estimators)\n",
    "ensemble.fit(X_train_svd, y_train)\n",
    "pred = ensemble.predict(X_test_svd)\n",
    "print(\"F1 Score: \", metrics.f1_score(y_test,pred, average='weighted'))\n",
    "print(\"Accuracy Score: \", accuracy_score(y_test,pred))"
   ]
  },
  {
   "cell_type": "markdown",
   "metadata": {},
   "source": [
    "### After Dimensionality reduction technique lets explore Feature Selection techniques and choose the best result\n",
    "\n",
    "#### 1) SelectKBest using chi2 solver"
   ]
  },
  {
   "cell_type": "code",
   "execution_count": 92,
   "metadata": {},
   "outputs": [
    {
     "name": "stdout",
     "output_type": "stream",
     "text": [
      "Score list: [19.80092045 30.73694266  5.82742214  5.8248272  32.35374911 27.41760379\n",
      " 12.89638723 46.81459968 18.91556947 27.18301979  6.80930772  5.15988508\n",
      " 30.94849106 28.09648789 13.45837781 47.06431565 19.74465891 25.50129836\n",
      "  8.17486474  5.49187213 37.69974436 26.0243419  13.46637315 46.4468479\n",
      " 19.74465891 25.50129836  8.17486474  5.49187213 37.69974436 26.0243419\n",
      " 13.46637315 46.4468479   0.35212558  0.66279791  0.32590762  0.13246859\n",
      "  0.79641321  0.10220172  0.13214078  0.1461168   8.66599112 13.39278736\n",
      " 10.14693052  7.29790294  5.61388356  5.59872855  6.10688102  2.79479199]\n",
      "Feature list: Index([ 0,  1,  2,  3,  4,  5,  6,  7,  8,  9, 10, 11, 12, 13, 14, 15, 16, 17,\n",
      "       18, 19, 20, 21, 22, 23, 24, 25, 26, 27, 28, 29, 30, 31, 32, 33, 34, 35,\n",
      "       36, 37, 38, 39, 40, 41, 42, 43, 44, 45, 46, 47],\n",
      "      dtype='object')\n"
     ]
    }
   ],
   "source": [
    "X_test_df = pd.DataFrame(test_data)\n",
    "x_df = pd.DataFrame(train_data)\n",
    "y_df = pd.DataFrame(train_lables)\n",
    "y_df.rename( columns= {0:'lable'}, inplace=True )\n",
    "dat1 = pd.concat([x_df, y_df], axis=1)\n",
    "df = pd.DataFrame(dat1)\n",
    "features = list(df.columns[0:48])\n",
    "X = df[features]\n",
    "y = df['lable']\n",
    "X_train, X_test, y_train, y_test = train_test_split(X, y, test_size=0.30, random_state=42)\n",
    "\n",
    "select_feature = SelectKBest(chi2, k=20).fit(X_train, y_train)\n",
    "print('Score list:', select_feature.scores_)\n",
    "print('Feature list:', X_train.columns)"
   ]
  },
  {
   "cell_type": "code",
   "execution_count": 93,
   "metadata": {},
   "outputs": [
    {
     "data": {
      "text/plain": [
       "array([37, 38, 35, 39, 34, 32, 33, 36, 47, 11, 19, 27, 45, 44,  3,  2, 46,\n",
       "       10, 43, 18, 26, 40, 42,  6, 41, 14, 22, 30,  8, 16, 24,  0, 25, 17,\n",
       "       29, 21,  9,  5, 13,  1, 12,  4, 28, 20, 31, 23,  7, 15])"
      ]
     },
     "execution_count": 93,
     "metadata": {},
     "output_type": "execute_result"
    }
   ],
   "source": [
    "select_feature.scores_.argsort()"
   ]
  },
  {
   "cell_type": "code",
   "execution_count": 120,
   "metadata": {},
   "outputs": [],
   "source": [
    "#lets select top 25 features\n",
    "df1 = df[[37, 38, 35, 39, 34, 32, 33, 36, 47, 11, 19, 27, 45, 44,  3,  2, 46,\n",
    "       10, 43, 18, 26, 40, 42,  6, 41, 'lable']]\n",
    "X_new = df1[[37, 38, 35, 39, 34, 32, 33, 36, 47, 11, 19, 27, 45, 44,  3,  2, 46,\n",
    "       10, 43, 18, 26, 40, 42,  6, 41]]\n",
    "y_new = df1['lable']\n",
    "X_train_new, X_test_new, y_train_new, y_test_new = train_test_split(X_new, y_new, test_size=0.30, random_state=42)"
   ]
  },
  {
   "cell_type": "code",
   "execution_count": 121,
   "metadata": {},
   "outputs": [
    {
     "name": "stdout",
     "output_type": "stream",
     "text": [
      "F1 Score:  0.5908938120485011\n",
      "Accuracy Score:  0.6039962240402769\n"
     ]
    }
   ],
   "source": [
    "knn = KNeighborsClassifier(n_neighbors=7)\n",
    "knn.fit(X_train_new,y_train_new)\n",
    "pred = knn.predict(X_test_new)\n",
    "print(\"F1 Score: \", metrics.f1_score(y_test_new,pred, average='weighted'))\n",
    "print(\"Accuracy Score: \", accuracy_score(y_test_new,pred))"
   ]
  },
  {
   "cell_type": "code",
   "execution_count": 122,
   "metadata": {},
   "outputs": [
    {
     "name": "stdout",
     "output_type": "stream",
     "text": [
      "[0.5606346954777811, 0.5721116296823867, 0.5805386197050472, 0.5902675662683752, 0.5861419521443506, 0.5925836963441679, 0.5908938120485011, 0.5858614671636412, 0.5826661713085042, 0.5866265460885287, 0.5843724943993257, 0.5853890144878711, 0.5827748745933866, 0.58188097005469, 0.5842491854810314]\n"
     ]
    },
    {
     "data": {
      "image/png": "[encoded data removed]",
      "text/plain": [
       "<matplotlib.figure.Figure at 0x1a19bd4dd8>"
      ]
     },
     "metadata": {},
     "output_type": "display_data"
    }
   ],
   "source": [
    "#KNN for different k values\n",
    "kVals = [1,2,3,4,5,6,7,8,9,10,11,12,13,14,15]\n",
    "f1_scores = []\n",
    "\n",
    "for k in kVals:\n",
    "    knn = KNeighborsClassifier(n_neighbors=k)\n",
    "    knn.fit(X_train_new,y_train_new)\n",
    "    pred = knn.predict(X_test_new)\n",
    "    f1_scores.append(f1_score(y_test_new,pred,average='weighted'))\n",
    "    \n",
    "plt.plot(kVals,f1_scores)    \n",
    "print(f1_scores)"
   ]
  },
  {
   "cell_type": "markdown",
   "metadata": {},
   "source": [
    "#### The results are very poor than dimensionality reduction algorithm for SelectKBest\n",
    "\n",
    "### 2) RFE (Recursive feature elimination)"
   ]
  },
  {
   "cell_type": "code",
   "execution_count": 117,
   "metadata": {},
   "outputs": [],
   "source": [
    "X_test_df = pd.DataFrame(test_data)\n",
    "x_df = pd.DataFrame(train_data)\n",
    "y_df = pd.DataFrame(train_lables)\n",
    "y_df.rename( columns= {0:'lable'}, inplace=True )\n",
    "dat1 = pd.concat([x_df, y_df], axis=1)\n",
    "df = pd.DataFrame(dat1)\n",
    "features = list(df.columns[0:48])\n",
    "X = df[features]\n",
    "y = df['lable']\n",
    "X_train, X_test, y_train, y_test = train_test_split(X, y, test_size=0.30, random_state=42)"
   ]
  },
  {
   "cell_type": "code",
   "execution_count": 123,
   "metadata": {},
   "outputs": [
    {
     "name": "stdout",
     "output_type": "stream",
     "text": [
      "Optimal number of features : 25\n",
      "Best features : Index([ 0,  1,  4,  5,  6,  8, 10, 11, 13, 14, 15, 17, 18, 20, 21, 22, 24, 28,\n",
      "       29, 31, 32, 40, 41, 43, 47],\n",
      "      dtype='object')\n"
     ]
    }
   ],
   "source": [
    "#using RFE for feature selection\n",
    "#Reference: http://scikit-learn.org/stable/auto_examples/feature_selection/plot_rfe_digits.html#sphx-glr-auto-examples-feature-selection-plot-rfe-digits-py\n",
    "clf = RandomForestClassifier()      \n",
    "rfe = RFE(estimator=clf, n_features_to_select=25, step=1)\n",
    "rfe = rfe.fit(X_train,y_train)\n",
    "print('Optimal number of features :', rfe.n_features_)\n",
    "print('Best features :', X_train.columns[rfe.support_])\n"
   ]
  },
  {
   "cell_type": "code",
   "execution_count": 124,
   "metadata": {},
   "outputs": [],
   "source": [
    "df1 = df[[ 0,  1,  4,  5,  6,  8, 10, 11, 13, 14, 15, 17, 18, 20, 21, 22, 24, 28,\n",
    "       29, 31, 32, 40, 41, 43, 47, 'lable']]\n",
    "X_new = df1[[ 0,  1,  4,  5,  6,  8, 10, 11, 13, 14, 15, 17, 18, 20, 21, 22, 24, 28,\n",
    "       29, 31, 32, 40, 41, 43, 47]]\n",
    "y_new = df1['lable']\n",
    "X_train_new, X_test_new, y_train_new, y_test_new = train_test_split(X_new, y_new, test_size=0.30, random_state=42)"
   ]
  },
  {
   "cell_type": "code",
   "execution_count": 125,
   "metadata": {},
   "outputs": [
    {
     "name": "stdout",
     "output_type": "stream",
     "text": [
      "[0.6654664287368636, 0.6652768299794882, 0.6811611833589656, 0.6868150247394064, 0.688895696470333, 0.6876471695313738, 0.6846383435117976, 0.6816697155058253, 0.6835510903976979, 0.6788679606145245]\n"
     ]
    },
    {
     "data": {
      "image/png": "[encoded data removed]",
      "text/plain": [
       "<matplotlib.figure.Figure at 0x10d53d6a0>"
      ]
     },
     "metadata": {},
     "output_type": "display_data"
    }
   ],
   "source": [
    "kVals = [1,2,3,4,5,6,7,8,9,10]\n",
    "f1_scores = []\n",
    "for k in kVals:\n",
    "    knn = KNeighborsClassifier(n_neighbors=k)\n",
    "    knn.fit(X_train_new,y_train_new)\n",
    "    pred = knn.predict(X_test_new)\n",
    "    f1_scores.append(metrics.f1_score(y_test_new,pred, average='weighted'))\n",
    "\n",
    "plt.plot(kVals,f1_scores)\n",
    "print(f1_scores)"
   ]
  },
  {
   "cell_type": "code",
   "execution_count": 132,
   "metadata": {},
   "outputs": [
    {
     "name": "stdout",
     "output_type": "stream",
     "text": [
      "F1 Score:  0.6851063831580643\n",
      "Accuracy Score:  0.7016991818753934\n"
     ]
    }
   ],
   "source": [
    "rf_classifier = RandomForestClassifier(n_estimators=100, max_features=20,random_state = 7)\n",
    "rf_classifier.fit(X_train_new,y_train_new)\n",
    "pred = rf_classifier.predict(X_test_new)\n",
    "print(\"F1 Score: \", metrics.f1_score(y_test_new,pred, average='weighted'))\n",
    "print(\"Accuracy Score: \", accuracy_score(y_test,pred))"
   ]
  },
  {
   "cell_type": "code",
   "execution_count": 128,
   "metadata": {},
   "outputs": [
    {
     "name": "stdout",
     "output_type": "stream",
     "text": [
      "F1 Score:  0.7168330149956892\n",
      "Accuracy Score:  0.7286028949024543\n"
     ]
    }
   ],
   "source": [
    "model = ExtraTreesClassifier(n_estimators=50, max_features=20,random_state = 7)\n",
    "model.fit(X_train_new,y_train_new)\n",
    "pred = model.predict(X_test_new)\n",
    "print(\"F1 Score: \", metrics.f1_score(y_test_new,pred, average='weighted'))\n",
    "print(\"Accuracy Score: \", accuracy_score(y_test,pred))"
   ]
  },
  {
   "cell_type": "code",
   "execution_count": 130,
   "metadata": {},
   "outputs": [
    {
     "name": "stdout",
     "output_type": "stream",
     "text": [
      "F1 Score:  0.6476506520549539\n",
      "Accuracy Score:  0.658275645059786\n"
     ]
    }
   ],
   "source": [
    "#MLPClassifier\n",
    "net = MLPClassifier(random_state=2,hidden_layer_sizes=(100,200,330,10),max_iter=500,activation= 'relu', learning_rate= 'invscaling', solver='adam')\n",
    "net.fit(X_train_new,y_train_new)\n",
    "pred= net.predict(X_test_new)\n",
    "print(\"F1 Score: \", metrics.f1_score(y_test_new,pred, average='weighted'))\n",
    "print(\"Accuracy Score: \", accuracy_score(y_test_new,pred))"
   ]
  },
  {
   "cell_type": "code",
   "execution_count": 133,
   "metadata": {},
   "outputs": [
    {
     "name": "stdout",
     "output_type": "stream",
     "text": [
      "F1 Score:  0.7021055363383705\n",
      "Accuracy Score:  0.7153870358716173\n"
     ]
    }
   ],
   "source": [
    "# Try with Different Models VOTING CLASSIFIER\n",
    "# create the sub models\n",
    "estimators = []\n",
    "model1 = KNeighborsClassifier(n_neighbors=5)\n",
    "estimators.append(('Knn', model1))\n",
    "model2 = RandomForestClassifier(n_estimators=100, max_features=20,random_state = 7)\n",
    "estimators.append(('RandomForest', model2))\n",
    "model3 = ExtraTreesClassifier(n_estimators=50, max_features=20,random_state = 7)\n",
    "estimators.append(('ExtraTree', model3))\n",
    "# create the ensemble model\n",
    "ensemble = VotingClassifier(estimators)\n",
    "ensemble.fit(X_train, y_train_new)\n",
    "pred = ensemble.predict(X_test)\n",
    "print(\"F1 Score: \", metrics.f1_score(y_test_new,pred, average='weighted'))\n",
    "print(\"Accuracy Score: \", accuracy_score(y_test_new,pred))"
   ]
  },
  {
   "cell_type": "markdown",
   "metadata": {},
   "source": [
    "### 3)RFECV  (Recursive feature elimination with Cross Validation)"
   ]
  },
  {
   "cell_type": "code",
   "execution_count": 6,
   "metadata": {},
   "outputs": [
    {
     "name": "stdout",
     "output_type": "stream",
     "text": [
      "Optimal number of features : 29\n",
      "Best features : Index([ 0,  1,  2,  3,  4,  5,  6,  7,  9, 10, 12, 13, 14, 16, 17, 18, 20, 21,\n",
      "       24, 28, 29, 30, 31, 32, 40, 41, 42, 43, 47],\n",
      "      dtype='object')\n"
     ]
    }
   ],
   "source": [
    "# Using RFECV for feature selection\n",
    "X_test_df = pd.DataFrame(test_data)\n",
    "x_df = pd.DataFrame(train_data)\n",
    "y_df = pd.DataFrame(train_lables)\n",
    "y_df.rename( columns= {0:'lable'}, inplace=True )\n",
    "dat1 = pd.concat([x_df, y_df], axis=1)\n",
    "df = pd.DataFrame(dat1)\n",
    "features = list(df.columns[0:48])\n",
    "X = df[features]\n",
    "y = df['lable']\n",
    "X_train, X_test, y_train, y_test = train_test_split(X, y, test_size=0.30, random_state=42)\n",
    "# The \"accuracy\" scoring is proportional to the number of correct classifications\n",
    "clf_rf_4 = RandomForestClassifier() \n",
    "rfecv = RFECV(estimator=clf_rf_4, step=1, cv=10,scoring='accuracy')   #5-fold cross-validation\n",
    "rfecv = rfecv.fit(X, y)\n",
    "\n",
    "print('Optimal number of features :', rfecv.n_features_)\n",
    "print('Best features :', X.columns[rfecv.support_])"
   ]
  },
  {
   "cell_type": "code",
   "execution_count": 14,
   "metadata": {},
   "outputs": [],
   "source": [
    "df1 = df[[0,  1,  2,  3,  4,  5,  6,  7,  9, 10, 12, 13, 14, 16, 17, 18, 20, 21,\n",
    "       24, 28, 29, 30, 31, 32, 40, 41, 42, 43, 47, 'lable']]\n",
    "X_new = df1[[0,  1,  2,  3,  4,  5,  6,  7,  9, 10, 12, 13, 14, 16, 17, 18, 20, 21,\n",
    "       24, 28, 29, 30, 31, 32, 40, 41, 42, 43, 47]]\n",
    "y_new = df1['lable']\n",
    "X_train_new, X_test_new, y_train_new, y_test_new = train_test_split(X_new, y_new, test_size=0.30, random_state=42)"
   ]
  },
  {
   "cell_type": "code",
   "execution_count": 15,
   "metadata": {},
   "outputs": [
    {
     "name": "stdout",
     "output_type": "stream",
     "text": [
      "F1 Score:  0.6475585162024573\n",
      "Accuracy Score:  0.6697608558842039\n"
     ]
    }
   ],
   "source": [
    "#MLPClassifier\n",
    "net = MLPClassifier(random_state=2,hidden_layer_sizes=(100,200,330,10),max_iter=500,activation= 'relu', learning_rate= 'invscaling', solver='adam')\n",
    "net.fit(X_train_new,y_train_new)\n",
    "pred= net.predict(X_test_new)\n",
    "print(\"F1 Score: \", metrics.f1_score(y_test_new,pred, average='weighted'))\n",
    "print(\"Accuracy Score: \", accuracy_score(y_test_new,pred))"
   ]
  },
  {
   "cell_type": "code",
   "execution_count": 9,
   "metadata": {},
   "outputs": [
    {
     "name": "stdout",
     "output_type": "stream",
     "text": [
      "[0.6747048180622278, 0.67423776782941, 0.6835521307078434, 0.6843773886230046, 0.6896286045556517, 0.687551756389838, 0.6864112643904843, 0.6848312231185678, 0.6845176626159184, 0.6846092306292757]\n"
     ]
    },
    {
     "data": {
      "image/png": "[encoded data removed]",
      "text/plain": [
       "<matplotlib.figure.Figure at 0x10d350240>"
      ]
     },
     "metadata": {},
     "output_type": "display_data"
    }
   ],
   "source": [
    "kVals = [1,2,3,4,5,6,7,8,9,10]\n",
    "f1_scores = []\n",
    "for k in kVals:\n",
    "    knn = KNeighborsClassifier(n_neighbors=k)\n",
    "    knn.fit(X_train_new,y_train_new)\n",
    "    pred = knn.predict(X_test_new)\n",
    "    f1_scores.append(metrics.f1_score(y_test_new,pred, average='weighted'))\n",
    "\n",
    "plt.plot(kVals,f1_scores)\n",
    "print(f1_scores)"
   ]
  },
  {
   "cell_type": "code",
   "execution_count": 152,
   "metadata": {},
   "outputs": [
    {
     "name": "stdout",
     "output_type": "stream",
     "text": [
      "F1 Score:  0.6933796977709942\n",
      "Accuracy Score:  0.7092511013215859\n"
     ]
    }
   ],
   "source": [
    "#RandomForestClassifier\n",
    "rf_classifier = RandomForestClassifier(n_estimators=200,max_features=5,random_state = 7)\n",
    "rf_classifier.fit(X_train_new,y_train_new)\n",
    "pred = rf_classifier.predict(X_test_new)\n",
    "print(\"F1 Score: \", metrics.f1_score(y_test_new,pred, average='weighted'))\n",
    "print(\"Accuracy Score: \", accuracy_score(y_test_new,pred))"
   ]
  },
  {
   "cell_type": "code",
   "execution_count": 157,
   "metadata": {},
   "outputs": [
    {
     "name": "stdout",
     "output_type": "stream",
     "text": [
      "F1 Score:  0.7187070582418272\n",
      "Accuracy Score:  0.7312775330396476\n"
     ]
    }
   ],
   "source": [
    "#ExtraTreeClassfier\n",
    "model = ExtraTreesClassifier(n_estimators=400, max_features=5,random_state=7)\n",
    "model.fit(X_train_new,y_train_new)\n",
    "pred = model.predict(X_test_new)\n",
    "print(\"F1 Score: \", metrics.f1_score(y_test_new,pred, average='weighted'))\n",
    "print(\"Accuracy Score: \", accuracy_score(y_test_new,pred))"
   ]
  },
  {
   "cell_type": "code",
   "execution_count": 155,
   "metadata": {},
   "outputs": [
    {
     "name": "stdout",
     "output_type": "stream",
     "text": [
      "F1 Score:  0.7140579633344308\n",
      "Accuracy Score:  0.7268722466960352\n"
     ]
    }
   ],
   "source": [
    "# create the sub models\n",
    "estimators = []\n",
    "model1 = KNeighborsClassifier(n_neighbors=5)\n",
    "estimators.append(('Knn', model1))\n",
    "model2 = RandomForestClassifier(n_estimators=200,max_features = 5 ,random_state=7)\n",
    "estimators.append(('RandomForest', model2))\n",
    "model3 = ExtraTreesClassifier(n_estimators=400, max_features=5,random_state=55)\n",
    "estimators.append(('ExtraTree', model3))\n",
    "# create the ensemble model\n",
    "ensemble = VotingClassifier(estimators)\n",
    "ensemble.fit(X_train_new, y_train_new)\n",
    "pred = ensemble.predict(X_test_new)\n",
    "print(\"F1 Score: \", metrics.f1_score(y_test_new,pred, average='weighted'))\n",
    "print(\"Accuracy Score: \", accuracy_score(y_test_new,pred))"
   ]
  },
  {
   "cell_type": "markdown",
   "metadata": {},
   "source": [
    "** At this point we can figure out that ExtraTreeClassifier has best f1_score so far **"
   ]
  },
  {
   "cell_type": "markdown",
   "metadata": {},
   "source": [
    "### Lets build best model on actual trian_data and generate output file "
   ]
  },
  {
   "cell_type": "code",
   "execution_count": 7,
   "metadata": {},
   "outputs": [],
   "source": [
    "X_test_df = pd.DataFrame(test_data)\n",
    "x_df = pd.DataFrame(train_data)\n",
    "y_df = pd.DataFrame(train_lables)\n",
    "y_df.rename( columns= {0:'lable'}, inplace=True )\n",
    "dat1 = pd.concat([x_df, y_df], axis=1)\n",
    "df = pd.DataFrame(dat1)\n",
    "features = list(df.columns[0:48])\n",
    "X = df[features]\n",
    "y = df['lable']"
   ]
  },
  {
   "cell_type": "code",
   "execution_count": 8,
   "metadata": {},
   "outputs": [],
   "source": [
    "# following parameters are taken from RFECV it has 29 best features and ExtraTree classifier is \n",
    "# considering max 5 features\n",
    "df1 = df[[ 0,  1,  2,  3,  4,  5,  6,  9, 10, 13, 14, 15, 20, 21, 22, 24, 25, 26,\n",
    "          28, 29, 30, 31, 32, 40, 41, 42, 44, 46, 47, 'lable']]\n",
    "X_new = df1[[ 0,  1,  2,  3,  4,  5,  6,  9, 10, 13, 14, 15, 20, 21, 22, 24, 25, 26,\n",
    "       28, 29, 30, 31, 32, 40, 41, 42, 44, 46, 47]]\n",
    "y_new = df1['lable']\n",
    "X_test_df1 = X_test_df[[0,  1,  2,  3,  4,  5,  6,  9, 10, 13, 14, 15, 20, 21, 22, 24, 25, 26,\n",
    "       28, 29, 30, 31, 32, 40, 41, 42, 44, 46, 47]]"
   ]
  },
  {
   "cell_type": "code",
   "execution_count": 9,
   "metadata": {},
   "outputs": [],
   "source": [
    "model = ExtraTreesClassifier(n_estimators=400, max_features=5,random_state=74)\n",
    "model.fit(X_new,y_new)\n",
    "pred = model.predict(X_test_df1)\n",
    "f= open(\"Prediction25.dat\",\"w+\")\n",
    "for val in pred:\n",
    "    f.write(str(int(val)) + \"\\n\")\n",
    "f.close()"
   ]
  },
  {
   "cell_type": "code",
   "execution_count": null,
   "metadata": {},
   "outputs": [],
   "source": []
  }
 ],
 "metadata": {
  "kernelspec": {
   "display_name": "Python 3",
   "language": "python",
   "name": "python3"
  },
  "language_info": {
   "codemirror_mode": {
    "name": "ipython",
    "version": 3
   },
   "file_extension": ".py",
   "mimetype": "text/x-python",
   "name": "python",
   "nbconvert_exporter": "python",
   "pygments_lexer": "ipython3",
   "version": "3.6.4"
  }
 },
 "nbformat": 4,
 "nbformat_minor": 2
}
